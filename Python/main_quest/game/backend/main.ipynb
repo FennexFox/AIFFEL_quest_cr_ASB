{
 "cells": [
  {
   "cell_type": "code",
   "execution_count": null,
   "metadata": {},
   "outputs": [],
   "source": [
    "from characters.monster import Monster\n",
    "from characters.player import Player\n",
    "import actions.action as action\n",
    "\n",
    "def main():\n",
    "    user_input = input(\"플레이어의 이름을 입력해 주세요: \")\n",
    "    player = Player(user_input)\n",
    "    monster_dict = {'슬라임': 1, '고블린': 2, '오크': 3}\n",
    "    monsters = []\n",
    "    for key, value in monster_dict.items():\n",
    "        monsters.append(Monster(key, value))\n",
    "    for monster in monsters:\n",
    "        action.battle(player, monster)\n",
    "\n",
    "if __name__ == \"__main__\":\n",
    "    main()"
   ]
  }
 ],
 "metadata": {
  "language_info": {
   "name": "python"
  }
 },
 "nbformat": 4,
 "nbformat_minor": 2
}
